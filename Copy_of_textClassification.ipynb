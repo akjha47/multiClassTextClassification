{
  "nbformat": 4,
  "nbformat_minor": 0,
  "metadata": {
    "colab": {
      "name": "Copy of textClassification.ipynb",
      "version": "0.3.2",
      "provenance": [],
      "collapsed_sections": [],
      "include_colab_link": true
    },
    "kernelspec": {
      "name": "python3",
      "display_name": "Python 3"
    },
    "accelerator": "GPU"
  },
  "cells": [
    {
      "cell_type": "markdown",
      "metadata": {
        "id": "view-in-github",
        "colab_type": "text"
      },
      "source": [
        "<a href=\"https://colab.research.google.com/github/akjha47/multiClassTextClassification/blob/master/Copy_of_textClassification.ipynb\" target=\"_parent\"><img src=\"https://colab.research.google.com/assets/colab-badge.svg\" alt=\"Open In Colab\"/></a>"
      ]
    },
    {
      "cell_type": "code",
      "metadata": {
        "id": "7L-f_Tpaa_mj",
        "colab_type": "code",
        "colab": {}
      },
      "source": [
        "#preparing data\n",
        "#using Glove word vectors\n",
        "#downloaded from https://nlp.stanford.edu/projects/glove/\n"
      ],
      "execution_count": 0,
      "outputs": []
    },
    {
      "cell_type": "code",
      "metadata": {
        "id": "fMKNkh07bgr2",
        "colab_type": "code",
        "outputId": "e002d3f1-dbd6-4b96-d832-1c443c8930a3",
        "colab": {
          "base_uri": "https://localhost:8080/",
          "height": 35
        }
      },
      "source": [
        "from google.colab import drive\n",
        "drive.mount('/content/drive')"
      ],
      "execution_count": 0,
      "outputs": [
        {
          "output_type": "stream",
          "text": [
            "Drive already mounted at /content/drive; to attempt to forcibly remount, call drive.mount(\"/content/drive\", force_remount=True).\n"
          ],
          "name": "stdout"
        }
      ]
    },
    {
      "cell_type": "code",
      "metadata": {
        "id": "TJrvKpbIbw7b",
        "colab_type": "code",
        "colab": {}
      },
      "source": [
        "import numpy as np\n",
        "pathToVecFile='drive/My Drive/word2vec.txt'\n",
        "word2index={'PAD':0}\n",
        "weights=[]\n",
        "with open(pathToVecFile,'r') as file: \n",
        "    for index, line in enumerate(file): \n",
        "        values = line.split()\n",
        "        word = values[0]\n",
        "        word_weights = np.asarray(values[1:], dtype=np.float32)\n",
        "        word2index[word] = index + 1 \n",
        "        weights.append(word_weights)\n",
        "        if index+1==40000:#limiting vocabulary size to 40k\n",
        "          break\n",
        "UNKNOWN_TOKEN=len(weights)\n",
        "EMBEDDING_DIMENSION=len(weights[0])\n",
        "weights.insert(0, np.random.randn(EMBEDDING_DIMENSION))\n",
        "word2index['UNK'] = UNKNOWN_TOKEN\n",
        "weights.append(np.random.randn(EMBEDDING_DIMENSION))"
      ],
      "execution_count": 0,
      "outputs": []
    },
    {
      "cell_type": "code",
      "metadata": {
        "id": "Ebmpbv88gQ8z",
        "colab_type": "code",
        "outputId": "bf84b0c7-d7d3-4db6-a3a2-c9c0aa6cc167",
        "colab": {
          "base_uri": "https://localhost:8080/",
          "height": 54
        }
      },
      "source": [
        "import nltk\n",
        "nltk.download('stopwords')\n",
        "from nltk.corpus import stopwords \n",
        "import re\n",
        "stop_words = set(stopwords.words(\"english\"))\n",
        "def text_cleaner(text):\n",
        "    newString = text.lower()\n",
        "    newString = re.sub(r'\\([^)]*\\)', '', newString)\n",
        "    newString = re.sub('\"','', newString)    \n",
        "    newString = re.sub(r\"'s\\b\",\"\",newString)\n",
        "    newString = re.sub(\"[^a-zA-Z]\", \" \", newString)\n",
        "    tokens = [w for w in newString.split() if not w in stop_words]\n",
        "    return tokens\n",
        "def getVectors(text):\n",
        "  features={}\n",
        "  required_vector=np.zeros((300,50))\n",
        "  text2convert=text_cleaner(text)\n",
        "  features['word_indices'] = [word2index.get(word, UNKNOWN_TOKEN) for word in text2convert]\n",
        "  for index,word_indices in enumerate(features['word_indices']):\n",
        "    if(index>299):\n",
        "      break\n",
        "    required_vector[index]=weights[word_indices]\n",
        "  return required_vector\n",
        "\n",
        "\n"
      ],
      "execution_count": 0,
      "outputs": [
        {
          "output_type": "stream",
          "text": [
            "[nltk_data] Downloading package stopwords to /root/nltk_data...\n",
            "[nltk_data]   Package stopwords is already up-to-date!\n"
          ],
          "name": "stdout"
        }
      ]
    },
    {
      "cell_type": "code",
      "metadata": {
        "id": "gnNAsiiMvwnG",
        "colab_type": "code",
        "outputId": "3d3330bb-8da8-4c7a-e94b-5dcb3e5b81c4",
        "colab": {
          "base_uri": "https://localhost:8080/",
          "height": 362
        }
      },
      "source": [
        "#reading data\n",
        "import pandas as pd\n",
        "dataF=pd.read_csv('drive/My Drive/bbc-text.csv')\n",
        "from matplotlib import pyplot as plt\n",
        "bins=[100,150,200,250,300,350,400,450,500]\n",
        "length=[]\n",
        "for entries in dataF.iloc[:,1]:\n",
        "  length.append(len(text_cleaner(entries)))\n",
        "plt.hist(length,bins,histtype='bar')\n",
        "plt.show()\n",
        "#choosing 300 as the max length\n",
        "X=np.zeros((2225,300,50))\n",
        "Y=dataF.iloc[:,0]\n",
        "for index,entries in enumerate(dataF.iloc[:,1]):\n",
        "  word_vectors=getVectors(entries)\n",
        "  X[index,:,:]=word_vectors\n",
        "#one hot encoding Y\n",
        "from numpy import array\n",
        "from sklearn.preprocessing import LabelEncoder\n",
        "from sklearn.preprocessing import OneHotEncoder\n",
        "# integer encode\n",
        "integer_encoded = LabelEncoder().fit_transform(array(Y))\n",
        "# binary encode\n",
        "integer_encoded = integer_encoded.reshape(len(integer_encoded), 1)\n",
        "Y= OneHotEncoder(sparse=False).fit_transform(integer_encoded)"
      ],
      "execution_count": 0,
      "outputs": [
        {
          "output_type": "display_data",
          "data": {
            "image/png": "[encoded data removed]",
            "text/plain": [
              "<Figure size 432x288 with 1 Axes>"
            ]
          },
          "metadata": {
            "tags": []
          }
        },
        {
          "output_type": "stream",
          "text": [
            "/usr/local/lib/python3.6/dist-packages/sklearn/preprocessing/_encoders.py:415: FutureWarning: The handling of integer data will change in version 0.22. Currently, the categories are determined based on the range [0, max(values)], while in the future they will be determined based on the unique values.\n",
            "If you want the future behaviour and silence this warning, you can specify \"categories='auto'\".\n",
            "In case you used a LabelEncoder before this OneHotEncoder to convert the categories to integers, then you can now use the OneHotEncoder directly.\n",
            "  warnings.warn(msg, FutureWarning)\n"
          ],
          "name": "stderr"
        }
      ]
    },
    {
      "cell_type": "code",
      "metadata": {
        "id": "MTvDZAb9sYN_",
        "colab_type": "code",
        "colab": {}
      },
      "source": [
        "from sklearn.model_selection import train_test_split\n",
        "X_train, X_test, y_train, y_test = train_test_split(X , Y, test_size=0.3, random_state=42)\n"
      ],
      "execution_count": 0,
      "outputs": []
    },
    {
      "cell_type": "code",
      "metadata": {
        "id": "vJ_QKFjtpCEr",
        "colab_type": "code",
        "outputId": "ba34d81a-911c-429a-dae9-01bf714733be",
        "colab": {
          "base_uri": "https://localhost:8080/",
          "height": 293
        }
      },
      "source": [
        "import tensorflow as tf\n",
        "model=tf.keras.models.Sequential([\n",
        "    tf.keras.layers.LSTM(128,dropout=0.1,return_sequences=True,input_shape=(300,50)),\n",
        "    tf.keras.layers.LSTM(128,dropout=0.2),\n",
        "    tf.keras.layers.Dense(5,activation='softmax')\n",
        "])\n",
        "class EarlyStoppingByAccVal(tf.keras.callbacks.Callback):\n",
        "    def __init__(self, monitor='val_acc', value=0.98, verbose=0):\n",
        "        super(tf.keras.callbacks.Callback, self).__init__()\n",
        "        self.monitor = monitor\n",
        "        self.value = value\n",
        "        self.verbose = verbose\n",
        "\n",
        "    def on_epoch_end(self, epoch, logs={}):\n",
        "        current = logs.get(self.monitor)\n",
        "        if current is None:\n",
        "            warnings.warn(\"Early stopping requires %s available!\" % self.monitor, RuntimeWarning)\n",
        "\n",
        "        if current >= self.value:\n",
        "            if self.verbose > 0:\n",
        "                print(\"Epoch %05d: early stopping THR\" % epoch)\n",
        "            print('Validation Accuracy is higher than 98%, hence stopping the training....')\n",
        "            self.model.stop_training = True\n",
        "callbacks = [\n",
        "    EarlyStoppingByAccVal(monitor='val_acc', value=0.98, verbose=1),\n",
        "    tf.keras.callbacks.ModelCheckpoint('drive/My Drive/model.h5', monitor='acc', save_best_only=True, verbose=0)\n",
        "]\n",
        "adam_optimizer=tf.keras.optimizers.Adam(lr=0.005, beta_1=0.9, beta_2=0.999, epsilon=None, decay=1e-7)\n",
        "model.compile(optimizer=adam_optimizer, loss='categorical_crossentropy', metrics=['acc'])\n",
        "print(model.summary())"
      ],
      "execution_count": 0,
      "outputs": [
        {
          "output_type": "stream",
          "text": [
            "Model: \"sequential_17\"\n",
            "_________________________________________________________________\n",
            "Layer (type)                 Output Shape              Param #   \n",
            "=================================================================\n",
            "lstm_34 (LSTM)               (None, 300, 128)          91648     \n",
            "_________________________________________________________________\n",
            "lstm_35 (LSTM)               (None, 128)               131584    \n",
            "_________________________________________________________________\n",
            "dense_17 (Dense)             (None, 5)                 645       \n",
            "=================================================================\n",
            "Total params: 223,877\n",
            "Trainable params: 223,877\n",
            "Non-trainable params: 0\n",
            "_________________________________________________________________\n",
            "None\n"
          ],
          "name": "stdout"
        }
      ]
    },
    {
      "cell_type": "code",
      "metadata": {
        "id": "AYEgxQxKtitw",
        "colab_type": "code",
        "outputId": "169b4adc-eb06-4556-c420-eac0ec64a0b8",
        "colab": {
          "base_uri": "https://localhost:8080/",
          "height": 1000
        }
      },
      "source": [
        "history = model.fit(X_train, y_train, epochs=100, batch_size=64,validation_split=0.2,callbacks=callbacks)\n"
      ],
      "execution_count": 0,
      "outputs": [
        {
          "output_type": "stream",
          "text": [
            "Train on 1245 samples, validate on 312 samples\n",
            "Epoch 1/100\n",
            "1245/1245 [==============================] - 36s 29ms/sample - loss: 1.5792 - acc: 0.3333 - val_loss: 1.1736 - val_acc: 0.4583\n",
            "Epoch 2/100\n",
            "1245/1245 [==============================] - 28s 23ms/sample - loss: 1.2005 - acc: 0.4835 - val_loss: 1.0961 - val_acc: 0.5801\n",
            "Epoch 3/100\n",
            "1245/1245 [==============================] - 28s 23ms/sample - loss: 1.3110 - acc: 0.4466 - val_loss: 1.1962 - val_acc: 0.5256\n",
            "Epoch 4/100\n",
            "1245/1245 [==============================] - 28s 23ms/sample - loss: 1.0529 - acc: 0.6353 - val_loss: 0.8448 - val_acc: 0.7692\n",
            "Epoch 5/100\n",
            "1245/1245 [==============================] - 29s 23ms/sample - loss: 0.8428 - acc: 0.7502 - val_loss: 1.6694 - val_acc: 0.4872\n",
            "Epoch 6/100\n",
            "1245/1245 [==============================] - 28s 23ms/sample - loss: 1.2715 - acc: 0.4851 - val_loss: 1.1274 - val_acc: 0.5449\n",
            "Epoch 7/100\n",
            "1245/1245 [==============================] - 28s 23ms/sample - loss: 1.3554 - acc: 0.4329 - val_loss: 1.4750 - val_acc: 0.3237\n",
            "Epoch 8/100\n",
            "1245/1245 [==============================] - 28s 23ms/sample - loss: 1.3773 - acc: 0.3928 - val_loss: 1.1402 - val_acc: 0.5673\n",
            "Epoch 9/100\n",
            "1245/1245 [==============================] - 28s 23ms/sample - loss: 1.0585 - acc: 0.5622 - val_loss: 0.8592 - val_acc: 0.6571\n",
            "Epoch 10/100\n",
            "1245/1245 [==============================] - 28s 23ms/sample - loss: 0.9958 - acc: 0.5534 - val_loss: 1.2223 - val_acc: 0.4167\n",
            "Epoch 11/100\n",
            "1245/1245 [==============================] - 28s 23ms/sample - loss: 1.0745 - acc: 0.5639 - val_loss: 0.9439 - val_acc: 0.6571\n",
            "Epoch 12/100\n",
            "1245/1245 [==============================] - 28s 23ms/sample - loss: 0.8722 - acc: 0.6819 - val_loss: 0.8116 - val_acc: 0.6891\n",
            "Epoch 13/100\n",
            "1245/1245 [==============================] - 28s 23ms/sample - loss: 0.7601 - acc: 0.7108 - val_loss: 0.6675 - val_acc: 0.7628\n",
            "Epoch 14/100\n",
            "1245/1245 [==============================] - 28s 23ms/sample - loss: 0.6629 - acc: 0.7462 - val_loss: 0.6895 - val_acc: 0.7660\n",
            "Epoch 15/100\n",
            "1245/1245 [==============================] - 28s 22ms/sample - loss: 0.8421 - acc: 0.6562 - val_loss: 1.0245 - val_acc: 0.5641\n",
            "Epoch 16/100\n",
            "1245/1245 [==============================] - 28s 22ms/sample - loss: 0.9932 - acc: 0.5735 - val_loss: 0.9656 - val_acc: 0.5929\n",
            "Epoch 17/100\n",
            "1245/1245 [==============================] - 28s 22ms/sample - loss: 0.8738 - acc: 0.6715 - val_loss: 0.8544 - val_acc: 0.6891\n",
            "Epoch 18/100\n",
            "1245/1245 [==============================] - 28s 22ms/sample - loss: 0.7833 - acc: 0.7004 - val_loss: 0.8407 - val_acc: 0.6506\n",
            "Epoch 19/100\n",
            "1245/1245 [==============================] - 28s 22ms/sample - loss: 0.7770 - acc: 0.6787 - val_loss: 0.7329 - val_acc: 0.7372\n",
            "Epoch 20/100\n",
            "1245/1245 [==============================] - 28s 23ms/sample - loss: 0.6982 - acc: 0.7221 - val_loss: 0.7199 - val_acc: 0.7372\n",
            "Epoch 21/100\n",
            "1245/1245 [==============================] - 28s 23ms/sample - loss: 0.6870 - acc: 0.7373 - val_loss: 0.6947 - val_acc: 0.7372\n",
            "Epoch 22/100\n",
            "1245/1245 [==============================] - 29s 23ms/sample - loss: 0.6250 - acc: 0.7807 - val_loss: 0.6253 - val_acc: 0.7949\n",
            "Epoch 23/100\n",
            "1245/1245 [==============================] - 29s 24ms/sample - loss: 0.6187 - acc: 0.7847 - val_loss: 0.5582 - val_acc: 0.8301\n",
            "Epoch 24/100\n",
            "1245/1245 [==============================] - 28s 23ms/sample - loss: 0.6626 - acc: 0.7647 - val_loss: 0.6144 - val_acc: 0.7885\n",
            "Epoch 25/100\n",
            "1245/1245 [==============================] - 29s 23ms/sample - loss: 0.4418 - acc: 0.8466 - val_loss: 0.4483 - val_acc: 0.8686\n",
            "Epoch 26/100\n",
            "1245/1245 [==============================] - 28s 23ms/sample - loss: 0.4257 - acc: 0.8458 - val_loss: 0.4017 - val_acc: 0.8526\n",
            "Epoch 27/100\n",
            "1245/1245 [==============================] - 67s 54ms/sample - loss: 0.3466 - acc: 0.8835 - val_loss: 0.4046 - val_acc: 0.8558\n",
            "Epoch 28/100\n",
            "1245/1245 [==============================] - 28s 22ms/sample - loss: 0.3595 - acc: 0.8755 - val_loss: 0.3322 - val_acc: 0.8846\n",
            "Epoch 29/100\n",
            "1245/1245 [==============================] - 28s 23ms/sample - loss: 0.2698 - acc: 0.9149 - val_loss: 0.1899 - val_acc: 0.9455\n",
            "Epoch 30/100\n",
            "1245/1245 [==============================] - 29s 23ms/sample - loss: 0.1947 - acc: 0.9406 - val_loss: 0.2117 - val_acc: 0.9327\n",
            "Epoch 31/100\n",
            "1245/1245 [==============================] - 28s 22ms/sample - loss: 0.1950 - acc: 0.9406 - val_loss: 0.1617 - val_acc: 0.9455\n",
            "Epoch 32/100\n",
            "1245/1245 [==============================] - 29s 23ms/sample - loss: 0.1693 - acc: 0.9510 - val_loss: 0.1344 - val_acc: 0.9583\n",
            "Epoch 33/100\n",
            "1245/1245 [==============================] - 29s 23ms/sample - loss: 0.1373 - acc: 0.9582 - val_loss: 0.1008 - val_acc: 0.9744\n",
            "Epoch 34/100\n",
            "1245/1245 [==============================] - 29s 23ms/sample - loss: 0.1263 - acc: 0.9606 - val_loss: 0.1189 - val_acc: 0.9647\n",
            "Epoch 35/100\n",
            "1245/1245 [==============================] - 29s 23ms/sample - loss: 0.1151 - acc: 0.9631 - val_loss: 0.1179 - val_acc: 0.9679\n",
            "Epoch 36/100\n",
            "1245/1245 [==============================] - 29s 23ms/sample - loss: 0.1086 - acc: 0.9639 - val_loss: 0.1150 - val_acc: 0.9679\n",
            "Epoch 37/100\n",
            "1245/1245 [==============================] - 28s 23ms/sample - loss: 0.1297 - acc: 0.9590 - val_loss: 0.1006 - val_acc: 0.9679\n",
            "Epoch 38/100\n",
            "1245/1245 [==============================] - 28s 23ms/sample - loss: 0.1161 - acc: 0.9566 - val_loss: 0.1847 - val_acc: 0.9423\n",
            "Epoch 39/100\n",
            "1245/1245 [==============================] - 28s 22ms/sample - loss: 0.1333 - acc: 0.9574 - val_loss: 0.2479 - val_acc: 0.9199\n",
            "Epoch 40/100\n",
            "1245/1245 [==============================] - 28s 22ms/sample - loss: 0.1669 - acc: 0.9486 - val_loss: 0.2446 - val_acc: 0.9359\n",
            "Epoch 41/100\n",
            "1245/1245 [==============================] - 28s 22ms/sample - loss: 0.1737 - acc: 0.9446 - val_loss: 0.1807 - val_acc: 0.9423\n",
            "Epoch 42/100\n",
            "1245/1245 [==============================] - 28s 22ms/sample - loss: 0.1526 - acc: 0.9470 - val_loss: 0.1804 - val_acc: 0.9391\n",
            "Epoch 43/100\n",
            "1245/1245 [==============================] - 28s 23ms/sample - loss: 0.1145 - acc: 0.9639 - val_loss: 0.1650 - val_acc: 0.9615\n",
            "Epoch 44/100\n",
            "1245/1245 [==============================] - 29s 23ms/sample - loss: 0.0873 - acc: 0.9743 - val_loss: 0.1092 - val_acc: 0.9744\n",
            "Epoch 45/100\n",
            "1216/1245 [============================>.] - ETA: 0s - loss: 0.0773 - acc: 0.9745Epoch 00044: early stopping THR\n",
            "Training Accuracy is higher than 98%, hence stopping the training....\n",
            "1245/1245 [==============================] - 28s 22ms/sample - loss: 0.0811 - acc: 0.9735 - val_loss: 0.0913 - val_acc: 0.9808\n"
          ],
          "name": "stdout"
        }
      ]
    },
    {
      "cell_type": "code",
      "metadata": {
        "id": "8_eQ2juOdzaX",
        "colab_type": "code",
        "outputId": "ae909d23-43ed-477e-d43b-e3934553e75f",
        "colab": {
          "base_uri": "https://localhost:8080/",
          "height": 573
        }
      },
      "source": [
        "import matplotlib.pyplot as plt\n",
        "#  plotting Accuracy\n",
        "plt.plot(history.history['acc'])\n",
        "plt.plot(history.history['val_acc'])\n",
        "plt.title('model accuracy')\n",
        "plt.ylabel('accuracy')\n",
        "plt.xlabel('epoch')\n",
        "plt.legend(['train', 'validation'], loc='upper left')\n",
        "plt.show()\n",
        "# plotting loss\n",
        "plt.plot(history.history['loss'])\n",
        "plt.plot(history.history['val_loss'])\n",
        "plt.title('model loss')\n",
        "plt.ylabel('loss')\n",
        "plt.xlabel('epoch')\n",
        "plt.legend(['train', 'validation'], loc='upper left')\n",
        "plt.show()\n"
      ],
      "execution_count": 0,
      "outputs": [
        {
          "output_type": "display_data",
          "data": {
            "image/png": "[encoded data removed]",
            "text/plain": [
              "<Figure size 432x288 with 1 Axes>"
            ]
          },
          "metadata": {
            "tags": []
          }
        },
        {
          "output_type": "display_data",
          "data": {
            "image/png": "[encoded data removed]",
            "text/plain": [
              "<Figure size 432x288 with 1 Axes>"
            ]
          },
          "metadata": {
            "tags": []
          }
        }
      ]
    },
    {
      "cell_type": "code",
      "metadata": {
        "id": "F-B3cEN2eT9H",
        "colab_type": "code",
        "outputId": "de5d5977-4651-44bb-9af6-5231dc36c79d",
        "colab": {
          "base_uri": "https://localhost:8080/",
          "height": 54
        }
      },
      "source": [
        "model.evaluate(X_test,y_test)"
      ],
      "execution_count": 0,
      "outputs": [
        {
          "output_type": "stream",
          "text": [
            "668/668 [==============================] - 10s 16ms/sample - loss: 0.0989 - acc: 0.9701\n"
          ],
          "name": "stdout"
        },
        {
          "output_type": "execute_result",
          "data": {
            "text/plain": [
              "[0.09892060165990613, 0.9700599]"
            ]
          },
          "metadata": {
            "tags": []
          },
          "execution_count": 65
        }
      ]
    }
  ]
}